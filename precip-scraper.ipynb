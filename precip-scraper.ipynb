{
 "cells": [
  {
   "cell_type": "code",
   "execution_count": 96,
   "metadata": {},
   "outputs": [],
   "source": [
    "import requests\n",
    "from bs4 import BeautifulSoup\n",
    "import time\n",
    "import urllib\n",
    "import re\n",
    "from selenium import webdriver\n",
    "from selenium.webdriver.common.by import By\n",
    "from selenium.webdriver.support.ui import WebDriverWait\n",
    "from selenium.webdriver.support import expected_conditions as EC\n",
    "import selenium.webdriver.common.keys\n",
    "from selenium.webdriver.common.keys import Keys\n",
    "from selenium.webdriver.common.action_chains import ActionChains\n",
    "\n",
    "import pandas as pd\n",
    "import plotly.express as px\n",
    "import pandas as pd\n",
    "from datetime import datetime, timedelta\n",
    "import plotly.graph_objects as go\n",
    "import plotly.io as pio\n",
    "import numpy as np\n",
    "from pandas.io.json import json_normalize"
   ]
  },
  {
   "cell_type": "code",
   "execution_count": 148,
   "metadata": {},
   "outputs": [],
   "source": [
    "months_years = [\"1970-01\",\"1970-02\",\"1970-03\",\"1970-04\",\"1970-05\",\"1970-06\",\"1970-07\",\"1970-08\",\"1970-09\",\"1970-10\",\"1970-11\",\"1970-12\",\"1971-01\",\"1971-02\",\"1971-03\",\"1971-04\",\"1971-05\",\"1971-06\",\"1971-07\",\"1971-08\",\"1971-09\",\"1971-10\",\"1971-11\",\"1971-12\",\"1972-01\",\"1972-02\",\"1972-03\",\"1972-04\",\"1972-05\",\"1972-06\",\"1972-07\",\"1972-08\",\"1972-09\",\"1972-10\",\"1972-11\",\"1972-12\",\"1973-01\",\"1973-02\",\"1973-03\",\"1973-04\",\"1973-05\",\"1973-06\",\"1973-07\",\"1973-08\",\"1973-09\",\"1973-10\",\"1973-11\",\"1973-12\",\"1974-01\",\"1974-02\",\"1974-03\",\"1974-04\",\"1974-05\",\"1974-06\",\"1974-07\",\"1974-08\",\"1974-09\",\"1974-10\",\"1974-11\",\"1974-12\",\"1975-01\",\"1975-02\",\"1975-03\",\"1975-04\",\"1975-05\",\"1975-06\",\"1975-07\",\"1975-08\",\"1975-09\",\"1975-10\",\"1975-11\",\"1975-12\",\"1976-01\",\"1976-02\",\"1976-03\",\"1976-04\",\"1976-05\",\"1976-06\",\"1976-07\",\"1976-08\",\"1976-09\",\"1976-10\",\"1976-11\",\"1976-12\",\"1977-01\",\"1977-02\",\"1977-03\",\"1977-04\",\"1977-05\",\"1977-06\",\"1977-07\",\"1977-08\",\"1977-09\",\"1977-10\",\"1977-11\",\"1977-12\",\"1978-01\",\"1978-02\",\"1978-03\",\"1978-04\",\"1978-05\",\"1978-06\",\"1978-07\",\"1978-08\",\"1978-09\",\"1978-10\",\"1978-11\",\"1978-12\",\"1979-01\",\"1979-02\",\"1979-03\",\"1979-04\",\"1979-05\",\"1979-06\",\"1979-07\",\"1979-08\",\"1979-09\",\"1979-10\",\"1979-11\",\"1979-12\",\"1980-01\",\"1980-02\",\"1980-03\",\"1980-04\",\"1980-05\",\"1980-06\",\"1980-07\",\"1980-08\",\"1980-09\",\"1980-10\",\"1980-11\",\"1980-12\",\"1981-01\",\"1981-02\",\"1981-03\",\"1981-04\",\"1981-05\",\"1981-06\",\"1981-07\",\"1981-08\",\"1981-09\",\"1981-10\",\"1981-11\",\"1981-12\",\"1982-01\",\"1982-02\",\"1982-03\",\"1982-04\",\"1982-05\",\"1982-06\",\"1982-07\",\"1982-08\",\"1982-09\",\"1982-10\",\"1982-11\",\"1982-12\",\"1983-01\",\"1983-02\",\"1983-03\",\"1983-04\",\"1983-05\",\"1983-06\",\"1983-07\",\"1983-08\",\"1983-09\",\"1983-10\",\"1983-11\",\"1983-12\",\"1984-01\",\"1984-02\",\"1984-03\",\"1984-04\",\"1984-05\",\"1984-06\",\"1984-07\",\"1984-08\",\"1984-09\",\"1984-10\",\"1984-11\",\"1984-12\",\"1985-01\",\"1985-02\",\"1985-03\",\"1985-04\",\"1985-05\",\"1985-06\",\"1985-07\",\"1985-08\",\"1985-09\",\"1985-10\",\"1985-11\",\"1985-12\",\"1986-01\",\"1986-02\",\"1986-03\",\"1986-04\",\"1986-05\",\"1986-06\",\"1986-07\",\"1986-08\",\"1986-09\",\"1986-10\",\"1986-11\",\"1986-12\",\"1987-01\",\"1987-02\",\"1987-03\",\"1987-04\",\"1987-05\",\"1987-06\",\"1987-07\",\"1987-08\",\"1987-09\",\"1987-10\",\"1987-11\",\"1987-12\",\"1988-01\",\"1988-02\",\"1988-03\",\"1988-04\",\"1988-05\",\"1988-06\",\"1988-07\",\"1988-08\",\"1988-09\",\"1988-10\",\"1988-11\",\"1988-12\",\"1989-01\",\"1989-02\",\"1989-03\",\"1989-04\",\"1989-05\",\"1989-06\",\"1989-07\",\"1989-08\",\"1989-09\",\"1989-10\",\"1989-11\",\"1989-12\",\"1990-01\",\"1990-02\",\"1990-03\",\"1990-04\",\"1990-05\",\"1990-06\",\"1990-07\",\"1990-08\",\"1990-09\",\"1990-10\",\"1990-11\",\"1990-12\",\"1991-01\",\"1991-02\",\"1991-03\",\"1991-04\",\"1991-05\",\"1991-06\",\"1991-07\",\"1991-08\",\"1991-09\",\"1991-10\",\"1991-11\",\"1991-12\",\"1992-01\",\"1992-02\",\"1992-03\",\"1992-04\",\"1992-05\",\"1992-06\",\"1992-07\",\"1992-08\",\"1992-09\",\"1992-10\",\"1992-11\",\"1992-12\",\"1993-01\",\"1993-02\",\"1993-03\",\"1993-04\",\"1993-05\",\"1993-06\",\"1993-07\",\"1993-08\",\"1993-09\",\"1993-10\",\"1993-11\",\"1993-12\",\"1994-01\",\"1994-02\",\"1994-03\",\"1994-04\",\"1994-05\",\"1994-06\",\"1994-07\",\"1994-08\",\"1994-09\",\"1994-10\",\"1994-11\",\"1994-12\",\"1995-01\",\"1995-02\",\"1995-03\",\"1995-04\",\"1995-05\",\"1995-06\",\"1995-07\",\"1995-08\",\"1995-09\",\"1995-10\",\"1995-11\",\"1995-12\",\"1996-01\",\"1996-02\",\"1996-03\",\"1996-04\",\"1996-05\",\"1996-06\",\"1996-07\",\"1996-08\",\"1996-09\",\"1996-10\",\"1996-11\",\"1996-12\",\"1997-01\",\"1997-02\",\"1997-03\",\"1997-04\",\"1997-05\",\"1997-06\",\"1997-07\",\"1997-08\",\"1997-09\",\"1997-10\",\"1997-11\",\"1997-12\",\"1998-01\",\"1998-02\",\"1998-03\",\"1998-04\",\"1998-05\",\"1998-06\",\"1998-07\",\"1998-08\",\"1998-09\",\"1998-10\",\"1998-11\",\"1998-12\",\"1999-01\",\"1999-02\",\"1999-03\",\"1999-04\",\"1999-05\",\"1999-06\",\"1999-07\",\"1999-08\",\"1999-09\",\"1999-10\",\"1999-11\",\"1999-12\",\"2000-01\",\"2000-02\",\"2000-03\",\"2000-04\",\"2000-05\",\"2000-06\",\"2000-07\",\"2000-08\",\"2000-09\",\"2000-10\",\"2000-11\",\"2000-12\",\"2001-01\",\"2001-02\",\"2001-03\",\"2001-04\",\"2001-05\",\"2001-06\",\"2001-07\",\"2001-08\",\"2001-09\",\"2001-10\",\"2001-11\",\"2001-12\",\"2002-01\",\"2002-02\",\"2002-03\",\"2002-04\",\"2002-05\",\"2002-06\",\"2002-07\",\"2002-08\",\"2002-09\",\"2002-10\",\"2002-11\",\"2002-12\",\"2003-01\",\"2003-02\",\"2003-03\",\"2003-04\",\"2003-05\",\"2003-06\",\"2003-07\",\"2003-08\",\"2003-09\",\"2003-10\",\"2003-11\",\"2003-12\",\"2004-01\",\"2004-02\",\"2004-03\",\"2004-04\",\"2004-05\",\"2004-06\",\"2004-07\",\"2004-08\",\"2004-09\",\"2004-10\",\"2004-11\",\"2004-12\",\"2005-01\",\"2005-02\",\"2005-03\",\"2005-04\",\"2005-05\",\"2005-06\",\"2005-07\",\"2005-08\",\"2005-09\",\"2005-10\",\"2005-11\",\"2005-12\",\"2006-01\",\"2006-02\",\"2006-03\",\"2006-04\",\"2006-05\",\"2006-06\",\"2006-07\",\"2006-08\",\"2006-09\",\"2006-10\",\"2006-11\",\"2006-12\",\"2007-01\",\"2007-02\",\"2007-03\",\"2007-04\",\"2007-05\",\"2007-06\",\"2007-07\",\"2007-08\",\"2007-09\",\"2007-10\",\"2007-11\",\"2007-12\",\"2008-01\",\"2008-02\",\"2008-03\",\"2008-04\",\"2008-05\",\"2008-06\",\"2008-07\",\"2008-08\",\"2008-09\",\"2008-10\",\"2008-11\",\"2008-12\",\"2009-01\",\"2009-02\",\"2009-03\",\"2009-04\",\"2009-05\",\"2009-06\",\"2009-07\",\"2009-08\",\"2009-09\",\"2009-10\",\"2009-11\",\"2009-12\",\"2010-01\",\"2010-02\",\"2010-03\",\"2010-04\",\"2010-05\",\"2010-06\",\"2010-07\",\"2010-08\",\"2010-09\",\"2010-10\",\"2010-11\",\"2010-12\",\"2011-01\",\"2011-02\",\"2011-03\",\"2011-04\",\"2011-05\",\"2011-06\",\"2011-07\",\"2011-08\",\"2011-09\",\"2011-10\",\"2011-11\",\"2011-12\",\"2012-01\",\"2012-02\",\"2012-03\",\"2012-04\",\"2012-05\",\"2012-06\",\"2012-07\",\"2012-08\",\"2012-09\",\"2012-10\",\"2012-11\",\"2012-12\",\"2013-01\",\"2013-02\",\"2013-03\",\"2013-04\",\"2013-05\",\"2013-06\",\"2013-07\",\"2013-08\",\"2013-09\",\"2013-10\",\"2013-11\",\"2013-12\",\"2014-01\",\"2014-02\",\"2014-03\",\"2014-04\",\"2014-05\",\"2014-06\",\"2014-07\",\"2014-08\",\"2014-09\",\"2014-10\",\"2014-11\",\"2014-12\",\"2015-01\",\"2015-02\",\"2015-03\",\"2015-04\",\"2015-05\",\"2015-06\",\"2015-07\",\"2015-08\",\"2015-09\",\"2015-10\",\"2015-11\",\"2015-12\",\"2016-01\",\"2016-02\",\"2016-03\",\"2016-04\",\"2016-05\",\"2016-06\",\"2016-07\",\"2016-08\",\"2016-09\",\"2016-10\",\"2016-11\",\"2016-12\",\"2017-01\",\"2017-02\",\"2017-03\",\"2017-04\",\"2017-05\",\"2017-06\",\"2017-07\",\"2017-08\",\"2017-09\",\"2017-10\",\"2017-11\",\"2017-12\",\"2018-01\",\"2018-02\",\"2018-03\",\"2018-04\",\"2018-05\",\"2018-06\",\"2018-07\",\"2018-08\",\"2018-09\",\"2018-10\",\"2018-11\",\"2018-12\",\"2019-01\",\"2019-02\",\"2019-03\",\"2019-04\",\"2019-05\",\"2019-06\",\"2019-07\",\"2019-08\",\"2019-09\",\"2019-10\",\"2019-11\",\"2019-12\",\"2020-01\",\"2020-02\",\"2020-03\",\"2020-04\",\"2020-05\",\"2020-06\",\"2020-07\",\"2020-08\",\"2020-09\",\"2020-10\",\"2020-11\",\"2020-12\",\"2021-01\",\"2021-02\",\"2021-03\",\"2021-04\",\"2021-05\",\"2021-06\",\"2021-07\",\"2021-08\",\"2021-09\",\"2021-10\",\"2021-11\",\"2021-12\",\"2022-01\",\"2022-02\",\"2022-03\",\"2022-04\",\"2022-05\",\"2022-06\",\"2022-07\",\"2022-08\",\"2022-09\",\"2022-10\",\"2022-11\",\"2022-12\",\"2023-01\",\"2023-02\"]\n",
    "\n",
    "months_years = [\"1992-12\", \"1997-09\", \"2004-09\", \"2017-09\"]\n"
   ]
  },
  {
   "cell_type": "code",
   "execution_count": 150,
   "metadata": {},
   "outputs": [
    {
     "name": "stdout",
     "output_type": "stream",
     "text": [
      "1992-12\n",
      "1997-09\n",
      "2004-09\n",
      "2017-09\n"
     ]
    }
   ],
   "source": [
    "for month in months_years:\n",
    "    \n",
    "    print(month)\n",
    "    \n",
    "    url = \"https://xmacis.rcc-acis.org/\"\n",
    "    driver = webdriver.Chrome()\n",
    "    driver.get(url)\n",
    "\n",
    "    #page = driver.execute_script(\"return document.documentElement.outerHTML\")\n",
    "\n",
    "    multistation = driver.find_element(By.XPATH, '//*[@id=\"product_select\"]/div[2]')\n",
    "    multistation.click()\n",
    "\n",
    "    time.sleep(1)\n",
    "\n",
    "    monthlydata = driver.find_element(By.XPATH, '//*[@id=\"ui-id-18\"]')\n",
    "    monthlydata.click()\n",
    "\n",
    "    time.sleep(1)\n",
    "\n",
    "    csv = driver.find_element(By.XPATH, '//*[@id=\"outformat_csv\"]')\n",
    "    csv.click()\n",
    "\n",
    "    time.sleep(1)\n",
    "\n",
    "\n",
    "    date = driver.find_element_by_id(\"tDatepicker\")\n",
    "    date.click()\n",
    "    date.clear()\n",
    "    date.send_keys(Keys.RETURN)\n",
    "    time.sleep(1)\n",
    "    date.send_keys(month)\n",
    "    time.sleep(1)\n",
    "    date.send_keys(Keys.RETURN)\n",
    "\n",
    "    time.sleep(1)\n",
    "\n",
    "    variable = driver.find_element(By.XPATH, '//*[@id=\"element_area\"]/div[1]/fieldset[1]/select')\n",
    "    variable.click()\n",
    "\n",
    "    time.sleep(1)\n",
    "\n",
    "    precip = driver.find_element(By.XPATH, '//*[@id=\"element_area\"]/div[1]/fieldset[1]/select/option[4]')\n",
    "    precip.click()\n",
    "\n",
    "    time.sleep(1)\n",
    "\n",
    "    moreoptions = driver.find_element(By.XPATH, '//*[@id=\"option_select\"]/div[4]/span[2]')\n",
    "    moreoptions.click()\n",
    "\n",
    "    time.sleep(1)\n",
    "\n",
    "    coords = driver.find_element(By.XPATH, '//*[@id=\"stacrds\"]')\n",
    "    coords.click()\n",
    "\n",
    "    time.sleep(1)\n",
    "\n",
    "    countybox = driver.find_element(By.XPATH, '//*[@id=\"stacnty\"]')\n",
    "    countybox.click()\n",
    "\n",
    "    time.sleep(1)\n",
    "\n",
    "    stationselect = driver.find_element(By.XPATH, '//*[@id=\"station_acc\"]')\n",
    "    stationselect.click()\n",
    "\n",
    "    time.sleep(1)\n",
    "\n",
    "    stateselect = driver.find_element(By.XPATH, '//*[@id=\"acis-state_select_type\"]/label[1]')\n",
    "    stateselect.click()\n",
    "\n",
    "    time.sleep(1)\n",
    "\n",
    "    statedrop = driver.find_element(By.XPATH, '//*[@id=\"state\"]')\n",
    "    statedrop.click()\n",
    "\n",
    "    time.sleep(1)\n",
    "\n",
    "    california = driver.find_element(By.XPATH, '//*[@id=\"state\"]/option[5]')\n",
    "    california.click()\n",
    "\n",
    "    time.sleep(1)\n",
    "\n",
    "    go = driver.find_element(By.XPATH, '//*[@id=\"go\"]/span')\n",
    "    go.click()\n",
    "\n",
    "    time.sleep(1)\n",
    "\n",
    "    wait = WebDriverWait(driver, 60)\n",
    "    wait.until(EC.visibility_of_element_located((By.XPATH, '//*[@id=\"results_area\"]/pre')))\n",
    "\n",
    "    time.sleep(1)\n",
    "\n",
    "    page = driver.execute_script(\"return document.documentElement.outerHTML\")\n",
    "\n",
    "    driver.quit()\n",
    "    soup = BeautifulSoup(page)\n",
    "\n",
    "    results = soup.find('div', {'id':'results_area'}).find('pre')\n",
    "\n",
    "    results = str(results)\n",
    "\n",
    "    results = results.replace(\"<pre>\", \"\")\n",
    "    results = results.replace(\"<br/>\", \"\\n\")\n",
    "\n",
    "    results\n",
    "\n",
    "    filename = \"precip_sum_\" + month + \".csv\"\n",
    "\n",
    "    with open(filename,'w') as f:\n",
    "        f.write('')\n",
    "        \n",
    "    with open(filename,'a') as f:\n",
    "        f.write(results)\n",
    "\n",
    "\n",
    "    "
   ]
  },
  {
   "cell_type": "code",
   "execution_count": null,
   "metadata": {},
   "outputs": [],
   "source": []
  },
  {
   "cell_type": "code",
   "execution_count": 53,
   "metadata": {},
   "outputs": [
    {
     "data": {
      "text/plain": [
       "\"Monthly Data for January 1980 for California\\n\\nName, StationType, County, Longitude, Latitude, Elevation, TotalPrecipitation\\nBARSTOW-DAGGETT AIRPORT, WBAN, San Bernardino, -116.787, 34.854, 1919, 1.20\\nMERCED, COOP, Merced, -120.516, 37.289, 154, 3.83\\nSAN DIEGO INTERNATIONAL AP, WBAN, San Diego, -117.183, 32.734, 15, 5.58\\nSAN DIEGO MIRAMAR NAS, WBAN, San Diego, -117.133, 32.867, 477, 8.87\\nNORTH ISLAND NAS, WBAN, San Diego, -117.210, 32.692, 14, 5.79\\nSAN FRANCISCO INTERNATIONAL AP, WBAN, San Mateo, -122.366, 37.620, 10, 4.85\\nBRAWLEY 2 SW, COOP, Imperial, -115.558, 32.954, -100, 1.12\\nCEDARVILLE, COOP, Modoc, -120.179, 41.530, 4688, 5.74\\nCHULA VISTA, COOP, San Diego, -117.086, 32.640, 56, 4.75\\nCOLFAX, COOP, Placer, -120.947, 39.090, 2373, 12.01\\nCUYAMACA, COOP, San Diego, -116.587, 32.990, 4640, 22.37\\nDAVIS 2 WSW EXP FARM, COOP, Yolo, -121.776, 38.535, 60, 5.07\\nDEATH VALLEY NATIONAL PARK, WBAN, Inyo, -116.867, 36.463, -194, 0.35\\nELECTRA P H, COOP, Amador, -120.671, 38.331, 715, 10.06\\nFAIRMONT, COOP, Los Angeles, -118.430, 34.705, 3060, 5.38\\nFORT BRAGG 5 N, COOP, Mendocino, -123.756, 39.510, 123, 3.23\\nHANFORD 1 S, COOP, Kings, -119.637, 36.316, 237, 2.90\\nHAPPY CAMP RANGER STATION, COOP, Siskiyou, -123.375, 41.796, 1142, 8.39\\nHEALDSBURG, COOP, Sonoma, -122.866, 38.629, 177, 8.82\\nINDIO FIRE STATION, COOP, Riverside, -116.215, 33.709, -21, 1.75\\nLAKE SPAULDING, COOP, Nevada, -120.639, 39.318, 5156, 26.58\\nLEMON COVE, COOP, Tulare, -119.026, 36.382, 513, 5.66\\nLIVERMORE, COOP, Alameda, -121.751, 37.682, 529, 4.16\\nLODI, COOP, San Joaquin, -121.288, 38.106, 40, 4.05\\nMARYSVILLE, COOP, Yuba, -121.585, 39.146, 57, 4.57\\nNAPA STATE HOSPITAL, COOP, Napa, -122.265, 38.278, 35, 7.45\\nOJAI, COOP, Ventura, -119.227, 34.448, 745, 8.81\\nORLAND, COOP, Glenn, -122.200, 39.746, 254, 3.25\\nORLEANS, COOP, Humboldt, -123.539, 41.302, 403, 11.42\\nPASADENA, COOP, Los Angeles, -118.145, 34.148, 864, 11.10\\nPASO ROBLES, COOP, San Luis Obispo, -120.685, 35.628, 730, 4.47\\nPETALUMA AIRPORT, COOP, Sonoma, -122.608, 38.258, 20, 5.89\\nREDDING FIRE STN 4, COOP, Shasta, -122.383, 40.550, 470, 3.26\\nREDLANDS, COOP, San Bernardino, -117.195, 34.037, 1410, 7.73\\nSANTA BARBARA, COOP, Santa Barbara, -119.684, 34.417, 16, 6.71\\nSANTA CRUZ, COOP, Santa Cruz, -122.000, 36.988, 70, 9.97\\nSANTA ROSA, COOP, Sonoma, -122.713, 38.456, 166, 7.09\\nTAHOE CITY, COOP, Placer, -120.143, 39.168, 6230, 14.89\\nTUSTIN IRVINE RANCH, COOP, Orange, -117.754, 33.703, 235, 7.54\\nUKIAH, COOP, Mendocino, -123.210, 39.147, 636, 8.83\\nVACAVILLE, COOP, Solano, -121.961, 38.396, 110, 7.36\\nWASCO, COOP, Kern, -119.352, 35.589, 291, 1.89\\nWEAVERVILLE, COOP, Trinity, -122.944, 40.735, 2058, 4.89\\nWILLOWS 6 W, COOP, Glenn, -122.305, 39.523, 234, 2.87\\nYOSEMITE PARK HEADQUARTERS, COOP, Mariposa, -119.590, 37.750, 4018, 16.54\\nYREKA, COOP, Siskiyou, -122.641, 41.703, 2709, 4.94\\nBERKELEY, COOP, Alameda, -122.260, 37.874, 310, 5.12\\nBLYTHE, COOP, Riverside, -114.598, 33.614, 268, 0.77\\nEUREKA WFO WOODLEY ISLAND, WBAN, Humboldt, -124.160, 40.810, 20, 3.19\\nINDEPENDENCE, WBAN, Inyo, -118.204, 36.798, 3950, 2.80\\nSAN LUIS OBISPO POLY, WBAN, San Luis Obispo, -120.662, 35.306, 308, 9.52\\nBURNEY, WBAN, Shasta, -121.655, 40.880, 3198, 5.56\\nIMPERIAL BEACH REAM FIELD NAS, WBAN, San Diego, -117.117, 32.568, 24, 5.78\\nCAMPO, COOP, San Diego, -116.470, 32.626, 2630, 11.82\\nCALEXICO 2 NE, COOP, Imperial, -115.464, 32.688, 12, 1.05\\nBARRETT DAM, COOP, San Diego, -116.667, 32.683, 1621, 13.89\\nEL CENTRO 2 SSW, COOP, Imperial, -115.562, 32.767, -30, 1.01\\nOCOTILLO 2, COOP, Imperial, -116.001, 32.746, 410, 1.35\\nLA MESA, COOP, San Diego, -117.023, 32.768, 530, 9.70\\nIMPERIAL COUNTY AP, WBAN, Imperial, -115.577, 32.835, -55, 1.49\\nALPINE, COOP, San Diego, -116.777, 32.836, 1695, 8.99\\nELSINORE, COOP, Riverside, -117.346, 33.686, 1268, 6.01\\nHAYFIELD PUMPING PLANT, COOP, Riverside, -115.629, 33.704, 1370, 1.18\\nSUN CITY, COOP, Riverside, -117.190, 33.716, 1420, 5.29\\nTUSTIN MCAF, WBAN, Orange, -117.833, 33.700, 56, 6.90\\nIDYLLWILD FIRE DEPT, COOP, Riverside, -116.707, 33.757, 5380, 14.35\\nHEMET, COOP, Riverside, -116.894, 33.738, 1811, 6.37\\nSANTA ANA FIRE STATION, COOP, Orange, -117.867, 33.744, 135, 7.95\\nEAGLE MOUNTAIN, COOP, Riverside, -115.451, 33.808, 973, 1.07\\nPALM SPRINGS, COOP, Riverside, -116.510, 33.828, 425, 4.14\\nLONG BEACH DAUGHERTY AP, WBAN, Los Angeles, -118.147, 33.812, 34, 7.17\\nPALOS VERDES ES FC43D, COOP, Los Angeles, -118.391, 33.800, 220, 5.40\\nSNOW CREEK UPPER, COOP, Riverside, -116.680, 33.873, 1940, 4.50\\nCORONA, COOP, Riverside, -117.550, 33.883, 610, 6.25\\nBEAUMONT #2, WBAN, Riverside, -116.990, 33.926, 2591, 11.24\\nYORBA LINDA, COOP, Orange, -117.819, 33.890, 350, 8.87\\nDOWNEY FIRE DEPT. FC107C, COOP, Los Angeles, -118.145, 33.930, 110, 8.27\\nLOS ANGELES INTL AP, WBAN, Los Angeles, -118.387, 33.938, 97, 6.97\\nRIVERSIDE FIRE STATION 3, COOP, Riverside, -117.388, 33.951, 840, 5.47\\nWHITTIER CITY YARD FC106C, COOP, Los Angeles, -118.022, 33.976, 446, 7.49\\nRIVERSIDE CITRUS EXP, COOP, Riverside, -117.361, 33.967, 986, 4.86\\nWALNUT NI FC102C, COOP, Los Angeles, -117.866, 34.002, 488, 9.63\\nMONTEBELLO, COOP, Los Angeles, -118.105, 34.019, 246, 7.00\\nSANTA MONICA PIER, COOP, Los Angeles, -118.500, 34.008, 14, 10.78\\nFONTANA KAISER, COOP, San Bernardino, -117.517, 34.083, 1102, 10.33\\nPOMONA/FAIRPLEX, COOP, Los Angeles, -117.766, 34.082, 999, 10.76\\nCOVINA CITY YARD FC387B, COOP, Los Angeles, -117.880, 34.092, 607, 10.14\\nBEL AIR FC 10A, COOP, Los Angeles, -118.450, 34.083, 541, 9.50\\nTOPANGA PATROL FC-6, COOP, Los Angeles, -118.599, 34.084, 745, 12.30\\nLECHUZA PTRL ST FC352B, COOP, Los Angeles, -118.880, 34.076, 1600, 9.30\\nIRON MOUNTAIN, COOP, San Bernardino, -115.122, 34.147, 922, 1.19\\nTWENTYNINE PALMS, COOP, San Bernardino, -116.037, 34.128, 1975, 0.83\\nSAN BERNARDINO F S 226, COOP, San Bernardino, -117.254, 34.134, 1140, 8.96\\nUPLAND 3 N, COOP, San Bernardino, -117.650, 34.133, 1611, 13.05\\nCLAREMONT POMONA COLLEGE, COOP, Los Angeles, -117.717, 34.100, 1201, 11.41\\nSAN DIMAS FIRE FC 95, COOP, Los Angeles, -117.802, 34.105, 958, 7.41\\nGLENDORA FC 287B, COOP, Los Angeles, -117.847, 34.147, 933, 11.56\\nSAN GABRIEL FIRE DEPT, COOP, Los Angeles, -118.100, 34.084, 363, 10.12\\nPOINT MUGU NF, WBAN, Ventura, -119.123, 34.124, 12, 6.97\\nALTADENA, COOP, Los Angeles, -118.138, 34.182, 1127, 11.78\\nFONTANA 5 N, COOP, San Bernardino, -117.450, 34.183, 1972, 20.26\\nBIG DALTON DAM FC223C, COOP, Los Angeles, -117.817, 34.167, 1591, 13.99\\nVAN NUYS FC15A, COOP, Los Angeles, -118.450, 34.183, 695, 8.22\\nWOODLAND HILLS PIERCE COLLEGE, COOP, Los Angeles, -118.574, 34.182, 790, 7.45\\nLYTLE CREEK R S, COOP, San Bernardino, -117.471, 34.238, 2730, 26.12\\nAPPLE VALLEY, COOP, San Bernardino, -117.217, 34.517, 2935, 2.62\\nVICTORVILLE, COOP, San Bernardino, -117.293, 34.529, 2880, 1.89\\nACTON ESCONDIDO FC261, COOP, Los Angeles, -118.271, 34.494, 2833, 5.20\\nGIBRALTAR DAM NO. 2, COOP, Santa Barbara, -119.682, 34.523, 1558, 8.13\\nPALMDALE, COOP, Los Angeles, -118.094, 34.588, 2612, 3.14\\nSAUGUS POWER PLANT 1, COOP, Los Angeles, -118.454, 34.590, 2161, 7.82\\nCACHUMA LAKE, COOP, Santa Barbara, -119.982, 34.582, 789, 4.26\\nSALSIPUEDES GAGING STATION, COOP, Santa Barbara, -120.408, 34.585, 254, 4.34\\nEL MIRAGE, COOP, San Bernardino, -117.630, 34.589, 2950, 1.79\\nLOMPOC, COOP, Santa Barbara, -120.451, 34.654, 75, 3.69\\nLANCASTER, WBAN, Los Angeles, -118.213, 34.741, 2338, 2.12\\nSANDBERG, WBAN, Los Angeles, -118.725, 34.744, 4510, 3.74\\nLOS ALAMOS, COOP, Santa Barbara, -120.280, 34.746, 565, 4.25\\nLEBEC, WBAN, Kern, -118.865, 34.833, 3575, 2.91\\nMITCHELL CAVERNS, COOP, San Bernardino, -115.547, 34.944, 4350, 5.80\\nBARSTOW, WBAN, San Bernardino, -117.033, 34.900, 2162, 2.41\\nPATTIWAY, COOP, Kern, -119.383, 34.933, 3868, 2.63\\nNEW CUYAMA FIRE STATION, COOP, Santa Barbara, -119.683, 34.946, 2160, 1.59\\nSHOSHONE, COOP, Inyo, -116.271, 35.972, 1546, 2.96\\nANGIOLA, COOP, Tulare, -119.483, 35.983, 210, 2.28\\nPORTERVILLE, COOP, Tulare, -119.020, 36.068, 393, 4.33\\nHAIWEE, COOP, Inyo, -117.953, 36.139, 3825, 1.73\\nCORCORAN IRRIGATION DIST., COOP, Kings, -119.582, 36.098, 200, 2.66\\nCOALINGA, WBAN, Fresno, -120.361, 36.136, 670, 4.24\\nPRIEST VALLEY, COOP, Monterey, -120.695, 36.188, 2300, 5.69\\nKING CITY, COOP, Monterey, -121.138, 36.207, 320, 2.56\\nLINDSAY, COOP, Tulare, -119.054, 36.203, 435, 3.66\\nWESTHAVEN, COOP, Fresno, -119.997, 36.227, 285, 2.98\\nBIG SUR STATION, COOP, Monterey, -121.780, 36.247, 200, 14.02\\nVISALIA, COOP, Tulare, -119.300, 36.328, 303, 3.80\\nFIVE POINTS 5 SSW, COOP, Fresno, -120.156, 36.364, 285, 3.31\\nPALOMA, COOP, Monterey, -121.540, 36.350, 1775, 5.99\\nHERNANDEZ 2 NW, COOP, San Benito, -120.917, 36.417, 2162, 4.48\\nSOLEDAD, COOP, Monterey, -121.317, 36.433, 210, 2.99\\nSAN CLEMENTE DAM, COOP, Monterey, -121.709, 36.438, 600, 5.22\\nASH MOUNTAIN, COOP, Tulare, -118.825, 36.491, 1708, 13.83\\nTHREE RIVERS EDISON PH 1, COOP, Tulare, -118.862, 36.465, 1140, 9.85\\nLODGEPOLE, COOP, Tulare, -118.732, 36.604, 6735, 29.11\\nORANGE COVE, COOP, Fresno, -119.300, 36.617, 430, 4.39\\nPANOCHE 2 W, COOP, San Benito, -120.884, 36.607, 1400, 2.66\\nSPRECKELS HWY BRIDGE, COOP, Monterey, -121.671, 36.631, 21, 3.81\\nMONTEREY, COOP, Monterey, -121.855, 36.593, 122, 5.95\\nSALINAS NO. 2, COOP, Monterey, -121.666, 36.659, 45, 3.90\\nSALINAS AP, WBAN, Monterey, -121.609, 36.664, 73, 2.96\\nGRANT GROVE, COOP, Tulare, -118.962, 36.738, 6580, 24.94\\nPAICINES 4 W, COOP, San Benito, -121.349, 36.715, 905, 6.09\\nMENDOTA DAM, COOP, Fresno, -120.367, 36.783, 171, 3.27\\nPINE FLAT DAM, COOP, Fresno, -119.337, 36.821, 615, 7.10\\nLOS BANOS ARBURUA RANCH, COOP, Merced, -120.939, 36.875, 843, 3.19\\nHOLLISTER 2, COOP, San Benito, -121.421, 36.848, 275, 3.75\\nBALCH POWER HOUSE, COOP, Fresno, -119.088, 36.909, 1735, 14.24\\nWATSONVILLE WATERWORKS, COOP, Santa Cruz, -121.769, 36.931, 95, 6.98\\nFRIANT GOVERNMENT CAMP, COOP, Fresno, -119.707, 36.997, 410, 4.71\\nMADERA, COOP, Madera, -120.038, 36.954, 270, 3.61\\nLOS BANOS DET RESV, COOP, Merced, -120.930, 36.990, 407, 3.11\\nGILROY, COOP, Santa Clara, -121.561, 37.003, 194, 6.24\\nAUBERRY 2 NW, COOP, Fresno, -119.513, 37.092, 2090, 8.53\\nLOS BANOS, COOP, Merced, -120.867, 37.056, 120, 2.90\\nSAN LUIS DAM, COOP, Merced, -121.058, 37.053, 277, 3.52\\nBEN LOMOND NO. 4, COOP, Santa Cruz, -122.080, 37.086, 420, 13.55\\nMORGAN HILL, COOP, Santa Clara, -121.602, 37.136, 375, 6.47\\nWRIGHTS, COOP, Santa Clara, -121.950, 37.133, 1600, 12.05\\nSOUTH LAKE, COOP, Inyo, -118.570, 37.168, 9580, 7.30\\nLOS GATOS 4 SW, COOP, Santa Cruz, -122.033, 37.183, 2415, 12.02\\nLAKE SABRINA, COOP, Inyo, -118.614, 37.213, 9065, 5.98\\nHUNTINGTON LAKE, COOP, Fresno, -119.221, 37.228, 7020, 19.50\\nNORTH FORK RS, COOP, Madera, -119.510, 37.233, 2645, 14.88\\nLE GRAND, COOP, Merced, -120.250, 37.233, 259, 4.11\\nLOS GATOS, COOP, Santa Clara, -121.959, 37.232, 365, 4.99\\nBISHOP CREEK INTAKE 2, COOP, Inyo, -118.581, 37.248, 8154, 4.74\\nCOARSEGOLD 1 SW, COOP, Madera, -119.705, 37.250, 2230, 10.03\\nNEWMAN, COOP, Stanislaus, -121.018, 37.281, 90, 3.89\\nMOUNT HAMILTON, WBAN, Santa Clara, -121.635, 37.343, 4220, 6.42\\nBLACK MOUNTAIN 2 WSW, COOP, Santa Clara, -122.167, 37.317, 2120, 9.75\\nSAN GREGORIO 2 SE, COOP, San Mateo, -122.362, 37.312, 275, 4.90\\nDEEP SPRINGS COLLEGE, COOP, Inyo, -117.980, 37.374, 5225, 0.93\\nBISHOP AIRPORT, WBAN, Inyo, -118.359, 37.371, 4110, 1.56\\nCATHEYS VALLEY WYRE RANCH, COOP, Mariposa, -120.117, 37.400, 1001, 6.55\\nMOFFETT FEDERAL AIRFIELD, WBAN, Santa Clara, -122.048, 37.406, 39, 3.27\\nTURLOCK #2, COOP, Stanislaus, -120.846, 37.502, 103, 3.45\\nPALO ALTO, COOP, Santa Clara, -122.140, 37.444, 25, 3.99\\nREDWOOD CITY, COOP, San Mateo, -122.239, 37.477, 31, 4.56\\nHALF MOON BAY, COOP, San Mateo, -122.443, 37.473, 27, 5.40\\nSO ENTRANCE YOSEMITE N.P., COOP, Mariposa, -119.633, 37.512, 5047, 21.43\\nDENAIR 3 NNE, COOP, Stanislaus, -120.783, 37.567, 141, 4.04\\nNEWARK, COOP, Alameda, -122.032, 37.515, 10, 2.89\\nWHITE MOUNTAIN 2, COOP, Mono, -118.233, 37.583, 12470, 4.82\\nEXCHEQUER DAM, COOP, Mariposa, -120.267, 37.585, 442, 7.03\\nMODESTO, COOP, Stanislaus, -121.000, 37.650, 91, 4.09\\nMODESTO AP, WBAN, Stanislaus, -120.955, 37.625, 87, 4.09\\nKERLINGER, COOP, San Joaquin, -121.433, 37.683, 177, 1.91\\nTRACY CARBONA, COOP, San Joaquin, -121.347, 37.682, 135, 2.54\\nOAKLAND INTERNATIONAL AIRPORT, WBAN, Alameda, -122.233, 37.718, 5, 3.16\\nGEM LAKE, COOP, Mono, -119.140, 37.752, 8970, 5.70\\nUPPER SAN LEANDRO FILTERS, COOP, Alameda, -122.167, 37.772, 394, 5.79\\nALAMEDA NAS, WBAN, Alameda, -122.317, 37.783, 14, 3.55\\nSAN FRANCISCO DOWNTOWN, WBAN, San Francisco, -122.427, 37.771, 150, 4.63\\nGROVELAND RS, COOP, Tuolumne, -120.098, 37.823, 3145, 15.96\\nTRACY PUMPING PLANT, COOP, Alameda, -121.583, 37.796, 61, 3.46\\nSAINT MARYS COLLEGE, COOP, Contra Costa, -122.100, 37.833, 620, 7.41\\nOAKLAND MUSEUM, COOP, Alameda, -122.264, 37.798, 30, 4.81\\nBENTON INSPECTION STN, COOP, Mono, -118.478, 37.843, 5460, 2.31\\nMATHER, COOP, Tuolumne, -119.856, 37.885, 4510, 15.22\\nMOUNT DIABLO JUNCTION, COOP, Contra Costa, -121.930, 37.879, 2170, 8.39\\nELLERY LAKE, COOP, Mono, -119.230, 37.936, 9645, 11.40\\nSTOCKTON AP, WBAN, San Joaquin, -121.226, 37.890, 27, 3.06\\nGOLD ROCK RANCH, COOP, Imperial, -114.867, 32.883, 485, 1.00\\nIMPERIAL, COOP, Imperial, -115.567, 32.849, -64, 1.59\\nDESCANSO RANGER STN, COOP, San Diego, -116.617, 32.850, 3500, 16.22\\nEL CAPITAN DAM, COOP, San Diego, -116.815, 32.886, 600, 9.65\\nLAKESIDE 2 E, COOP, San Diego, -116.895, 32.854, 690, 7.93\\nSAN CLEMENTE ISLAND NAAS, WBAN, Los Angeles, -118.588, 33.023, 182, 4.48\\nRAMONA FIRE DEPT, COOP, San Diego, -116.908, 33.011, 1470, 12.86\\nJULIAN WYNOLA, COOP, San Diego, -116.650, 33.100, 3650, 15.88\\nHENSHAW DAM, COOP, San Diego, -116.761, 33.237, 2700, 18.77\\nVISTA, COOP, San Diego, -117.232, 33.235, 430, 10.40\\nOCEANSIDE MARINA, COOP, San Diego, -117.395, 33.210, 10, 7.96\\nNILAND, COOP, Imperial, -115.524, 33.278, -60, 1.13\\nBORREGO DESERT PARK, COOP, San Diego, -116.404, 33.256, 810, 4.35\\nOAK GROVE RS, COOP, San Diego, -116.792, 33.386, 2750, 4.86\\nPALOMAR MTN OBSERVATORY, COOP, San Diego, -116.840, 33.378, 5550, 18.63\\nMECCA FIRE STATION, COOP, Riverside, -116.073, 33.570, -183, 1.68\\nANZA, COOP, Riverside, -116.674, 33.556, 3915, 9.25\\nLAGUNA BEACH, COOP, Orange, -117.781, 33.545, 44, 7.61\\nBLYTHE ASOS, WBAN, Riverside, -114.715, 33.619, 395, 0.84\\nDESERT RESORTS REGIONAL AP, WBAN, Riverside, -116.164, 33.632, -118, 1.41\\nRICHMOND, COOP, Contra Costa, -122.377, 37.919, 20, 5.69\\nMUIR WOODS, COOP, Marin, -122.569, 37.898, 220, 7.66\\nHETCH HETCHY, COOP, Tuolumne, -119.783, 37.961, 3870, 16.27\\nCHERRY VALLEY DAM, COOP, Tuolumne, -119.916, 37.975, 4765, 22.62\\nSONORA, COOP, Tuolumne, -120.387, 37.967, 1675, 12.14\\nNEW MELONES DAM, COOP, Tuolumne, -120.533, 37.950, 775, 8.00\\nSTOCKTON FIRE STA 4, COOP, San Joaquin, -121.318, 37.999, 12, 4.63\\nANTIOCH PUMPING PLANT #3, COOP, Contra Costa, -121.752, 37.983, 60, 3.26\\nSAN RAFAEL-CIVIC CENTER, COOP, Marin, -122.537, 37.998, 120, 10.19\\nKENTFIELD, COOP, Marin, -122.545, 37.957, 145, 12.55\\nMONO LAKE, WBAN, Mono, -119.150, 38.000, 6449, 6.10\\nMARTINEZ WATER PLANT, COOP, Contra Costa, -122.114, 38.013, 40, 5.18\\nACAMPO 5NE, COOP, San Joaquin, -121.201, 38.218, 87, 5.97\\nBRIDGEPORT, COOP, Mono, -119.229, 38.258, 6470, 3.80\\nCALAVERAS BIG TREES, COOP, Calaveras, -120.311, 38.277, 4695, 24.63\\nCAMP PARDEE, COOP, Calaveras, -120.843, 38.249, 658, 6.45\\nFAIRFIELD, COOP, Solano, -122.068, 38.274, 40, 6.94\\nSONOMA, COOP, Sonoma, -122.462, 38.299, 97, 7.99\\nWEST POINT, COOP, Calaveras, -120.545, 38.378, 2775, 12.79\\nGRATON, COOP, Sonoma, -122.865, 38.431, 200, 9.73\\nOCCIDENTAL, COOP, Sonoma, -122.966, 38.386, 865, 18.26\\nTIGER CREEK PH, COOP, Amador, -120.499, 38.446, 2355, 18.11\\nOAKVILLE 1 WNW, COOP, Napa, -122.417, 38.450, 161, 8.67\\nSALT SPRINGS PWR HOUSE, COOP, Amador, -120.219, 38.501, 3700, 17.41\\nFIDDLETOWN DEXTER RCH, COOP, Amador, -120.698, 38.525, 2170, 9.80\\nSACRAMENTO AP ASOS, WBAN, Sacramento, -121.496, 38.507, 19, 5.64\\nWINTERS, WBAN, Yolo, -121.978, 38.525, 135, 6.00\\nLAKE SOLANO, COOP, Solano, -122.004, 38.492, 187, 7.00\\nFORT ROSS, COOP, Sonoma, -123.245, 38.515, 112, 6.63\\nSACRAMENTO 5 ESE, WBAN, Sacramento, -121.418, 38.555, 38, 5.33\\nANGWIN PACIFIC UNION COLLEGE, COOP, Napa, -122.440, 38.573, 1715, 11.41\\nCALISTOGA, COOP, Napa, -122.578, 38.577, 350, 8.11\\nHEALDSBURG NO 2, COOP, Sonoma, -122.867, 38.633, 150, 8.49\\nWOODLAND 1 WNW, COOP, Yolo, -121.794, 38.683, 67, 5.10\\nTWIN LAKES, COOP, Alpine, -120.040, 38.709, 8000, 16.19\\nPLACERVILLE IFG, COOP, El Dorado, -120.733, 38.733, 2755, 15.59\\nPLACERVILLE, COOP, El Dorado, -120.824, 38.696, 1850, 15.33\\nREPRESA, COOP, Sacramento, -121.161, 38.694, 295, 6.64\\nFOLSOM DAM, COOP, Sacramento, -121.167, 38.700, 350, 7.47\\nWARM SPRINGS DAM, COOP, Sonoma, -122.997, 38.716, 224, 9.77\\nWOODFORDS, COOP, Alpine, -119.800, 38.783, 5650, 7.28\\nPACIFIC HOUSE, COOP, El Dorado, -120.503, 38.758, 3450, 20.18\\nMIDDLETOWN, COOP, Lake, -122.626, 38.748, 1121, 12.91\\nCLOVERDALE, COOP, Sonoma, -123.026, 38.793, 400, 9.32\\nECHO SUMT SIERRA AT TAHOE, COOP, El Dorado, -120.033, 38.783, 7350, 16.73\\nKELSEY 1 N, COOP, El Dorado, -120.821, 38.809, 2000, 12.10\\nAUBURN DAM PROJECT, COOP, Placer, -121.067, 38.883, 1270, 9.99\\nGEORGETOWN RS, COOP, El Dorado, -120.801, 38.933, 3001, 21.24\\nAUBURN, COOP, Placer, -121.084, 38.907, 1292, 9.93\\nNICOLAUS #2, COOP, Sutter, -121.545, 38.926, 43, 4.33\\nPOINT ARENA, COOP, Mendocino, -123.700, 38.900, 100, 5.79\\nCLEARLAKE 4 SE, COOP, Lake, -122.567, 38.924, 1349, 4.72\\nFORESTHILL RANGER STATION, COOP, Placer, -120.845, 39.010, 3015, 19.72\\nLAKEPORT, COOP, Lake, -122.917, 39.033, 1315, 7.77\\nIOWA HILL, COOP, Placer, -120.840, 39.118, 3100, 16.82\\nUKIAH 4 WSW, COOP, Mendocino, -123.272, 39.127, 1328, 11.66\\nSAN GABRIEL DAM FC425B-E, COOP, Los Angeles, -117.861, 34.205, 1481, 18.96\\nMT WILSON CBS, COOP, Los Angeles, -118.071, 34.231, 5710, 21.01\\nLA CRESCENTA FC251 C, COOP, Los Angeles, -118.238, 34.222, 1545, 10.48\\nPARKER RESRVOIR, COOP, San Bernardino, -114.171, 34.290, 738, 5.54\\nBIG BEAR LAKE, COOP, San Bernardino, -116.917, 34.243, 6753, 11.85\\nLAKE ARROWHEAD, COOP, San Bernardino, -117.188, 34.247, 5205, 22.15\\nTUJUNGA, COOP, Los Angeles, -118.283, 34.267, 1820, 7.30\\nCHATSWORTH FC 24 F, COOP, Los Angeles, -118.600, 34.250, 950, 8.41\\nCRYSTAL LAKE FC238C, COOP, Los Angeles, -117.842, 34.318, 5345, 16.52\\nBIG TUJUNGA DAM FC46, COOP, Los Angeles, -118.188, 34.295, 2326, 10.91\\nPACOIMA DAM FC33A-E, COOP, Los Angeles, -118.400, 34.329, 1550, 7.41\\nALISO CANYON OAT MTN FC446, COOP, Los Angeles, -118.550, 34.317, 2367, 13.40\\nBIG PINES PARK FC83B, COOP, Los Angeles, -117.683, 34.383, 6845, 10.79\\nNEWHALL S FC32CE, COOP, Los Angeles, -118.534, 34.387, 1233, 5.37\\nSANTA PAULA, COOP, Ventura, -119.133, 34.312, 237, 8.57\\nPIRU 2 ESE, COOP, Ventura, -118.757, 34.406, 712, 8.93\\nSANTA BARBARA MUNI AP, WBAN, Santa Barbara, -119.842, 34.424, 8, 5.92\\nVALYERMO FIRE STN 79, COOP, Los Angeles, -117.867, 34.450, 3602, 2.89\\nVINCENT FS FC 120, COOP, Los Angeles, -118.142, 34.488, 3157, 2.78\\nJUNCAL DAM, COOP, Santa Barbara, -119.507, 34.491, 2260, 9.06\\nGOLD RUN 4 SW, COOP, Placer, -120.900, 39.150, 3220, 18.10\\nWILLIAMS, COOP, Colusa, -122.150, 39.150, 85, 3.17\\nUPPER LAKE 7 W, COOP, Lake, -123.033, 39.183, 1564, 9.40\\nGRASS VALLEY NO. 2, COOP, Nevada, -121.068, 39.204, 2400, 15.21\\nHARRY L. ENGLEBRIGHT DAM, COOP, Nevada, -121.267, 39.237, 800, 7.26\\nCOLUSA 2 SSW, COOP, Colusa, -122.027, 39.188, 50, 3.16\\nBLUE CANYON NYACK AP, WBAN, Placer, -120.709, 39.276, 5286, 23.91\\nNEVADA CITY, COOP, Nevada, -121.001, 39.247, 2781, 14.48\\nTRUCKEE RS, COOP, Nevada, -120.173, 39.333, 5823, 10.36\\nDONNER MEMORIAL ST PARK, COOP, Nevada, -120.233, 39.324, 5937, 16.94\\nDEER CREEK FOREBAY, COOP, Nevada, -120.833, 39.300, 4455, 27.27\\nCOLGATE POWERHOUSE, COOP, Yuba, -121.192, 39.331, 595, 9.40\\nBOCA, COOP, Nevada, -120.094, 39.389, 5575, 7.93\\nEAST PARK RESERVOIR, COOP, Colusa, -122.518, 39.359, 1205, 4.18\\nPOTTER VALLEY POWERHOUSE, COOP, Mendocino, -123.129, 39.362, 1018, 8.70\\nSAGEHEN CREEK, COOP, Nevada, -120.241, 39.432, 6337, 13.34\\nWILLITS 1 NE, COOP, Mendocino, -123.342, 39.419, 1353, 10.27\\nBOWMAN DAM, COOP, Nevada, -120.656, 39.454, 5385, 24.95\\nCHALLENGE R S, COOP, Yuba, -121.217, 39.483, 2570, 18.21\\nOROVILLE DAM, COOP, Butte, -121.483, 39.533, 845, 8.06\\nSIERRAVILLE RS, COOP, Sierra, -120.370, 39.583, 4975, 10.80\\nSTRAWBERRY VALLEY 2, COOP, Yuba, -121.161, 39.532, 3710, 21.41\\nSTONY GORGE RESERVOIR, COOP, Glenn, -122.534, 39.586, 800, 3.40\\nBRUSH CREEK RANGER STATION, COOP, Butte, -121.345, 39.695, 3560, 19.85\\nPARADISE, COOP, Butte, -121.624, 39.754, 1750, 14.73\\nCOVELO, COOP, Mendocino, -123.244, 39.816, 1413, 7.89\\nVINTON, COOP, Plumas, -120.186, 39.806, 4950, 4.40\\nPORTOLA, COOP, Plumas, -120.472, 39.805, 4850, 6.72\\nCUMMINGS, COOP, Mendocino, -123.633, 39.833, 1289, 14.49\\nDE SABLA, COOP, Butte, -121.611, 39.872, 2710, 15.65\\nCORNING HOUGHTON RANCH, COOP, Tehama, -122.350, 39.900, 487, 2.72\\nPASKENTA RANGER STATION, COOP, Tehama, -122.554, 39.888, 755, 3.53\\nSTANDISH HICKEY ST PK, COOP, Mendocino, -123.727, 39.878, 853, 12.52\\nBUCKS CREEK, COOP, Plumas, -121.315, 39.937, 1891, 19.88\\nDOYLE 4 SSE, COOP, Lassen, -120.083, 39.972, 4390, 7.85\\nQUINCY USFS HELIPORT, COOP, Plumas, -120.950, 39.983, 3652, 7.88\\nDOYLE, COOP, Lassen, -120.105, 40.027, 4293, 4.18\\nRICHARDSON GR ST PK, COOP, Humboldt, -123.793, 40.026, 503, 13.13\\nSHELTER COVE AVIATION, WBAN, Humboldt, -124.073, 40.033, 246, 6.26\\nGREENVILLE, COOP, Plumas, -120.950, 40.141, 3590, 9.17\\nGARBERVILLE, COOP, Humboldt, -123.800, 40.100, 340, 9.76\\nCANYON DAM, COOP, Plumas, -121.089, 40.171, 4560, 9.19\\nALDERPOINT, COOP, Humboldt, -123.617, 40.183, 459, 10.21\\nUPPER MATTOLE, COOP, Humboldt, -124.183, 40.250, 255, 6.07\\nCHESTER, COOP, Plumas, -121.242, 40.303, 4530, 6.14\\nPAYNES CREEK, COOP, Tehama, -121.900, 40.333, 1841, 5.41\\nMINERAL, COOP, Tehama, -121.609, 40.346, 4875, 9.61\\nMOJAVE, COOP, Kern, -118.162, 35.049, 2735, 3.39\\nMARICOPA, COOP, Kern, -119.383, 35.083, 675, 2.43\\nTEHACHAPI, COOP, Kern, -118.450, 35.133, 4017, 3.46\\nPISMO BEACH, COOP, San Luis Obispo, -120.683, 35.160, 39, 8.62\\nBAKER, WBAN, San Bernardino, -116.063, 35.276, 962, 1.23\\nSALINAS DAM, COOP, San Luis Obispo, -120.504, 35.337, 1392, 6.69\\nRANDSBURG, COOP, Kern, -117.652, 35.369, 3570, 4.22\\nSANTA MARGARITA BOOST, COOP, San Luis Obispo, -120.637, 35.374, 1148, 12.85\\nMORRO BAY FIRE DEPT, COOP, San Luis Obispo, -120.845, 35.367, 118, 6.35\\nBAKERSFIELD AP, WBAN, Kern, -119.055, 35.434, 490, 2.60\\nBUTTONWILLOW, COOP, Kern, -119.470, 35.403, 225, 2.35\\nMOUNTAIN PASS, COOP, San Bernardino, -115.544, 35.470, 4730, 2.13\\nKERN RIVER PH 1, COOP, Kern, -118.783, 35.467, 970, 4.54\\nGLENNVILLE, COOP, Kern, -118.701, 35.727, 3140, 11.12\\nTRONA, COOP, San Bernardino, -117.391, 35.764, 1695, 2.57\\nKERN RIVER PH 3, COOP, Kern, -118.439, 35.783, 2703, 8.76\\nDELANO, COOP, Kern, -119.260, 35.768, 302, 2.30\\nPOSEY 3 E, COOP, Tulare, -118.633, 35.800, 4960, 14.64\\nHARRISON GULCH RS, COOP, Shasta, -122.965, 40.364, 2750, 6.11\\nFOREST GLEN, COOP, Trinity, -123.333, 40.383, 2339, 9.44\\nCOLEMAN FISHERIES STATION, COOP, Shasta, -122.143, 40.400, 420, 7.03\\nVOLTA PH, COOP, Shasta, -121.866, 40.458, 2220, 5.86\\nMAD RIVER RANGER STN, COOP, Trinity, -123.533, 40.450, 2675, 6.16\\nGRIZZLY CREEK STATE PARK, COOP, Humboldt, -123.909, 40.486, 413, 6.62\\nSCOTIA, COOP, Humboldt, -124.104, 40.483, 136, 7.62\\nMANZANITA LAKE, COOP, Shasta, -121.577, 40.541, 5750, 7.70\\nSHINGLETOWN 2 E, COOP, Shasta, -121.850, 40.500, 3556, 9.54\\nBRIDGEVILLE 4 NNW, COOP, Humboldt, -123.822, 40.519, 2100, 8.16\\nHAYFORK 2 W, COOP, Trinity, -123.212, 40.552, 2300, 4.49\\nWHISKEYTOWN RESERVOIR, COOP, Shasta, -122.528, 40.612, 1295, 5.90\\nSHASTA DAM, COOP, Shasta, -122.416, 40.714, 1075, 6.35\\nFRENCH GULCH, COOP, Shasta, -122.633, 40.700, 1102, 3.86\\nTRINITY RIVER HATCHERY, COOP, Trinity, -122.795, 40.726, 1861, 4.63\\nBIG BAR 4 E, COOP, Trinity, -123.208, 40.741, 1253, 6.80\\nROUND MOUNTAIN, COOP, Shasta, -121.935, 40.796, 2100, 14.17\\nBURNT RANCH 1 S, COOP, Trinity, -123.467, 40.800, 2150, 7.18\\nTERMO 1 E, COOP, Lassen, -120.433, 40.867, 5300, 2.08\\nBUCKHORN, COOP, Shasta, -121.932, 40.880, 3700, 16.71\\nHAT CREEK, COOP, Shasta, -121.543, 40.932, 3015, 3.76\\nPIT RIVER PH 5, COOP, Shasta, -121.977, 40.987, 1458, 15.58\\nWILLOW CREEK 1 NW, COOP, Humboldt, -123.636, 40.947, 464, 8.61\\nPIT RIVER P H 1, COOP, Shasta, -121.500, 41.000, 2880, 4.18\\nHOOPA, COOP, Humboldt, -123.667, 41.050, 361, 11.03\\nADIN RANGER STATION, COOP, Modoc, -120.945, 41.193, 4202, 4.27\\nDUNSMUIR TREATMENT PL, COOP, Siskiyou, -122.282, 41.183, 2169, 9.62\\nJESS VALLEY, COOP, Modoc, -120.298, 41.271, 5319, 2.52\\nMCCLOUD, COOP, Siskiyou, -122.138, 41.252, 3233, 6.21\\nCALLAHAN, COOP, Siskiyou, -122.825, 41.338, 3085, 4.64\\nSAWYERS BAR RS, COOP, Siskiyou, -123.133, 41.301, 2255, 8.00\\nORICK PRAIRIE CREEK PARK, COOP, Humboldt, -124.019, 41.362, 160, 7.00\\nWEED FIRE DEPT, COOP, Siskiyou, -122.383, 41.433, 3589, 1.98\\nALTURAS, COOP, Modoc, -120.544, 41.490, 4373, 3.65\\nKLAMATH, COOP, Del Norte, -124.075, 41.579, 28, 7.18\\nGREENVIEW, COOP, Siskiyou, -122.924, 41.552, 2820, 4.70\\nFORT JONES RS, COOP, Siskiyou, -122.848, 41.601, 2729, 3.97\\nMOUNT HEBRON RS, COOP, Siskiyou, -122.045, 41.783, 4265, 2.52\\nCRESCENT CITY 3 NNW, WBAN, Del Norte, -124.215, 41.796, 43, 5.68\\nCRESCENT CITY 7 ENE, COOP, Del Norte, -124.085, 41.794, 120, 9.02\\nFORT BIDWELL, COOP, Modoc, -120.157, 41.872, 4739, 4.08\\nOAK KNOLL R S NO 2, COOP, Siskiyou, -122.883, 41.850, 1700, 4.23\\nGASQUET RS, COOP, Del Norte, -123.967, 41.846, 387, 12.56\\nFORT DICK, COOP, Del Norte, -124.150, 41.867, 46, 5.96\\nTULELAKE, COOP, Siskiyou, -121.474, 41.960, 4038, 2.18\\nCOPCO NO 1 DAM, COOP, Siskiyou, -122.338, 41.980, 2665, 3.51\\nHILTS SLASH DISPOSAL, COOP, Siskiyou, -122.633, 42.000, 2904, 5.42\\nINYOKERN, COOP, Kern, -117.821, 35.651, 2430, 1.12\\nEL CAJON, COOP, San Diego, -116.928, 32.801, 495, 8.39\\nMARKLEY COVE, COOP, Napa, -122.124, 38.492, 480, 7.35\\nBOULEVARD 2, COOP, San Diego, -116.300, 32.667, 3600, 11.70\\nNEWPORT BEACH HARBOR, WBAN, Orange, -117.884, 33.603, 10, 6.68\\nESCONDIDO NO. 2, COOP, San Diego, -117.090, 33.121, 600, 11.49\\nSANTA MARIA PUBLIC AP, WBAN, Santa Barbara, -120.452, 34.894, 243, 3.76\\nMOUNT SHASTA, WBAN, Siskiyou, -122.333, 41.333, 3535, 3.55\\nRED BLUFF MUNI AP, WBAN, Tehama, -122.255, 40.152, 354, 2.84\\nNEEDLES AIRPORT, WBAN, San Bernardino, -114.618, 34.768, 888, 2.15\\nCECILVILLE 5 SE, COOP, Siskiyou, -123.050, 41.100, 3002, 7.53\\nWOFFORD HEIGHTS KERNVILLE, WBAN, Kern, -118.450, 35.717, 2733, 7.72\\nCHINA LAKE NAF, WBAN, Kern, -117.693, 35.688, 2230, 1.26\\nAVALON PLEASURE PIER, COOP, Los Angeles, -118.317, 33.350, 25, 6.56\\nTORRANCE AP, WBAN, Los Angeles, -118.342, 33.802, 90, 8.90\\nLOS ANGELES DOWNTOWN/USC, WBAN, Los Angeles, -118.291, 34.024, 179, 7.50\\nFRESNO YOSEMITE INT'L, WBAN, Fresno, -119.720, 36.780, 334, 3.83\\nPASO ROBLES MUNICIPAL AP, WBAN, San Luis Obispo, -120.629, 35.669, 820, 3.81\\nSAN JOSE, COOP, Santa Clara, -121.903, 37.350, 67, 2.62\\nBakersfield Area, ThreadEx, -, -, -, -, 2.60\\nBishop Area, ThreadEx, -, -, -, -, 1.56\\nLos Angeles Downtown Area, ThreadEx, -, -, -, -, 7.50\\nEureka Area, ThreadEx, -, -, -, -, 3.19\\nFresno Area, ThreadEx, -, -, -, -, 3.83\\nLos Angeles Airport Area, ThreadEx, -, -, -, -, 6.97\\nLong Beach Area, ThreadEx, -, -, -, -, 7.17\\nRedding Area, ThreadEx, -, -, -, -, 3.26\\nSacramento Area, ThreadEx, -, -, -, -, 5.64\\nSan Diego Area, ThreadEx, -, -, -, -, 5.58\\nStockton Area, ThreadEx, -, -, -, -, 3.06\\nSan Francisco Airport Area, ThreadEx, -, -, -, -, 4.85\\nSanta Maria Area, ThreadEx, -, -, -, -, 3.76\\nLEMOORE REEVES NAS, WBAN, Fresno, -119.950, 36.333, 232, 2.79\\nBURBANK VALLEY PUMP PLANT, COOP, Los Angeles, -118.348, 34.187, 655, 7.43\\nHAGAN'S MEADOW, Snotel, El Dorado, -119.940, 38.850, 7776, 12.50\\nSONORA PASS, Snotel, Mono, -119.600, 38.310, 8827, 14.00\\nVIRGINIA LAKES RIDGE, Snotel, Mono, -119.230, 38.070, 9445, 10.60\\nLOBDELL LAKE, Snotel, Mono, -119.370, 38.440, 9233, 8.20\\nEBBETTS PASS, Snotel, Alpine, -119.800, 38.550, 8765, 19.70\\nHEAVENLY VALLEY, Snotel, El Dorado, -119.920, 38.920, 8582, 11.60\\nCEDAR PASS, Snotel, Modoc, -120.300, 41.580, 7030, 8.10\\nINDEPENDENCE CAMP, Snotel, Sierra, -120.290, 39.450, 7003, 13.60\\nINDEPENDENCE LAKE, Snotel, Nevada, -120.310, 39.430, 8352, 15.60\\nWARD CREEK #3, Snotel, Placer, -120.220, 39.140, 6655, 25.80\\nFALLEN LEAF, Snotel, El Dorado, -120.050, 38.930, 6236, 16.10\\nSUSANVILLE 2SW, WBAN, Lassen, -120.663, 40.417, 4212, 3.48\\nTEJON RANCHO, WBAN, Kern, -118.750, 35.023, 1425, 2.74\\nSAN NICOLAS IS, WBAN, Ventura, -119.458, 33.240, 568, 5.19\\nBurbank Glendale Pasadena Area, ThreadEx, -, -, -, -, 7.43\\nCamarillo Area, ThreadEx, -, -, -, -, M\\nNeedles Area, ThreadEx, -, -, -, -, 2.15\\nOxnard Area, ThreadEx, -, -, -, -, M\\nPalm Springs Area, ThreadEx, -, -, -, -, 4.14\\nRiverside Area, ThreadEx, -, -, -, -, 5.47\\nRamona Area, ThreadEx, -, -, -, -, 12.86\\nCrescent City Area, ThreadEx, -, -, -, -, 5.68\\nEscondido Area, ThreadEx, -, -, -, -, 11.49\\nSacramento Downtown Area, ThreadEx, -, -, -, -, 5.33\\nTahoe City Area, ThreadEx, -, -, -, -, 14.89\\nUkiah Area, ThreadEx, -, -, -, -, 8.83\\nAlturas Area, ThreadEx, -, -, -, -, 3.65\\nMount Shasta Area, ThreadEx, -, -, -, -, 3.55\\nPalmdale Area, ThreadEx, -, -, -, -, 3.14\\nLancaster Area, ThreadEx, -, -, -, -, 2.12\\nEl Cajon Area, ThreadEx, -, -, -, -, 8.39\\nHanford Area, ThreadEx, -, -, -, -, 2.90\\nEl Centro Area, ThreadEx, -, -, -, -, 1.49\\nMadera Area, ThreadEx, -, -, -, -, 3.61\\nMerced Area, ThreadEx, -, -, -, -, 3.83\\nSan Jose Area, ThreadEx, -, -, -, -, 2.62</pre>\""
      ]
     },
     "execution_count": 53,
     "metadata": {},
     "output_type": "execute_result"
    }
   ],
   "source": []
  },
  {
   "cell_type": "code",
   "execution_count": 54,
   "metadata": {},
   "outputs": [],
   "source": []
  },
  {
   "cell_type": "code",
   "execution_count": null,
   "metadata": {},
   "outputs": [],
   "source": []
  }
 ],
 "metadata": {
  "kernelspec": {
   "display_name": "Python 3",
   "language": "python",
   "name": "python3"
  },
  "language_info": {
   "codemirror_mode": {
    "name": "ipython",
    "version": 3
   },
   "file_extension": ".py",
   "mimetype": "text/x-python",
   "name": "python",
   "nbconvert_exporter": "python",
   "pygments_lexer": "ipython3",
   "version": "3.7.3"
  }
 },
 "nbformat": 4,
 "nbformat_minor": 2
}
